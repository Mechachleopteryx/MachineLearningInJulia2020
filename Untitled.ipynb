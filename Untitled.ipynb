{
 "cells": [
  {
   "cell_type": "code",
   "execution_count": 4,
   "metadata": {},
   "outputs": [],
   "source": [
    "using DataFrames, CategoricalArrays"
   ]
  },
  {
   "cell_type": "code",
   "execution_count": 2,
   "metadata": {},
   "outputs": [
    {
     "data": {
      "text/plain": [
       "12-element Array{Float64,1}:\n",
       "  1.0\n",
       "  2.0\n",
       "  3.0\n",
       "  4.0\n",
       "  5.0\n",
       "  6.0\n",
       "  7.0\n",
       "  8.0\n",
       "  9.0\n",
       " 10.0\n",
       " 11.0\n",
       " 12.0"
      ]
     },
     "execution_count": 2,
     "metadata": {},
     "output_type": "execute_result"
    }
   ],
   "source": [
    "time = float.(1:12 )"
   ]
  },
  {
   "cell_type": "code",
   "execution_count": 5,
   "metadata": {},
   "outputs": [
    {
     "data": {
      "text/plain": [
       "4-element CategoricalArray{String,1,UInt32}:\n",
       " \"kitchen\"\n",
       " \"bathroom\"\n",
       " \"bedroom_1\"\n",
       " \"living_room\""
      ]
     },
     "execution_count": 5,
     "metadata": {},
     "output_type": "execute_result"
    }
   ],
   "source": [
    "room = categorical([\"kitchen\", \"bathroom\", \"bedroom_1\", \"living_room\"])"
   ]
  },
  {
   "cell_type": "code",
   "execution_count": 6,
   "metadata": {},
   "outputs": [
    {
     "data": {
      "text/plain": [
       "12-element CategoricalArray{String,1,UInt32}:\n",
       " \"kitchen\"\n",
       " \"bathroom\"\n",
       " \"bedroom_1\"\n",
       " \"living_room\"\n",
       " \"kitchen\"\n",
       " \"bathroom\"\n",
       " \"bedroom_1\"\n",
       " \"living_room\"\n",
       " \"kitchen\"\n",
       " \"bathroom\"\n",
       " \"bedroom_1\"\n",
       " \"living_room\""
      ]
     },
     "execution_count": 6,
     "metadata": {},
     "output_type": "execute_result"
    }
   ],
   "source": [
    "room = vcat(room, room, room)"
   ]
  },
  {
   "cell_type": "code",
   "execution_count": 7,
   "metadata": {},
   "outputs": [
    {
     "data": {
      "text/plain": [
       "1×12 Array{Int64,2}:\n",
       " 5  5  5  5  6  6  6  6  7  7  7  7"
      ]
     },
     "execution_count": 7,
     "metadata": {},
     "output_type": "execute_result"
    }
   ],
   "source": [
    "time = [5 5 5 5 6 6 6 6 7 7 7 7]"
   ]
  },
  {
   "cell_type": "code",
   "execution_count": 11,
   "metadata": {},
   "outputs": [
    {
     "data": {
      "text/plain": [
       "12-element Array{Int64,1}:\n",
       " 5\n",
       " 5\n",
       " 5\n",
       " 5\n",
       " 6\n",
       " 6\n",
       " 6\n",
       " 6\n",
       " 7\n",
       " 7\n",
       " 7\n",
       " 7"
      ]
     },
     "execution_count": 11,
     "metadata": {},
     "output_type": "execute_result"
    }
   ],
   "source": [
    "time =reshape(time, (12,))"
   ]
  },
  {
   "cell_type": "code",
   "execution_count": 12,
   "metadata": {},
   "outputs": [
    {
     "data": {
      "text/html": [
       "<table class=\"data-frame\"><thead><tr><th></th><th>time</th><th>room</th></tr><tr><th></th><th>Int64</th><th>Cat…</th></tr></thead><tbody><p>12 rows × 2 columns</p><tr><th>1</th><td>5</td><td>kitchen</td></tr><tr><th>2</th><td>5</td><td>bathroom</td></tr><tr><th>3</th><td>5</td><td>bedroom_1</td></tr><tr><th>4</th><td>5</td><td>living_room</td></tr><tr><th>5</th><td>6</td><td>kitchen</td></tr><tr><th>6</th><td>6</td><td>bathroom</td></tr><tr><th>7</th><td>6</td><td>bedroom_1</td></tr><tr><th>8</th><td>6</td><td>living_room</td></tr><tr><th>9</th><td>7</td><td>kitchen</td></tr><tr><th>10</th><td>7</td><td>bathroom</td></tr><tr><th>11</th><td>7</td><td>bedroom_1</td></tr><tr><th>12</th><td>7</td><td>living_room</td></tr></tbody></table>"
      ],
      "text/latex": [
       "\\begin{tabular}{r|cc}\n",
       "\t& time & room\\\\\n",
       "\t\\hline\n",
       "\t& Int64 & Cat…\\\\\n",
       "\t\\hline\n",
       "\t1 & 5 & kitchen \\\\\n",
       "\t2 & 5 & bathroom \\\\\n",
       "\t3 & 5 & bedroom\\_1 \\\\\n",
       "\t4 & 5 & living\\_room \\\\\n",
       "\t5 & 6 & kitchen \\\\\n",
       "\t6 & 6 & bathroom \\\\\n",
       "\t7 & 6 & bedroom\\_1 \\\\\n",
       "\t8 & 6 & living\\_room \\\\\n",
       "\t9 & 7 & kitchen \\\\\n",
       "\t10 & 7 & bathroom \\\\\n",
       "\t11 & 7 & bedroom\\_1 \\\\\n",
       "\t12 & 7 & living\\_room \\\\\n",
       "\\end{tabular}\n"
      ],
      "text/plain": [
       "12×2 DataFrame\n",
       "│ Row │ time  │ room        │\n",
       "│     │ \u001b[90mInt64\u001b[39m │ \u001b[90mCat…\u001b[39m        │\n",
       "├─────┼───────┼─────────────┤\n",
       "│ 1   │ 5     │ kitchen     │\n",
       "│ 2   │ 5     │ bathroom    │\n",
       "│ 3   │ 5     │ bedroom_1   │\n",
       "│ 4   │ 5     │ living_room │\n",
       "│ 5   │ 6     │ kitchen     │\n",
       "│ 6   │ 6     │ bathroom    │\n",
       "│ 7   │ 6     │ bedroom_1   │\n",
       "│ 8   │ 6     │ living_room │\n",
       "│ 9   │ 7     │ kitchen     │\n",
       "│ 10  │ 7     │ bathroom    │\n",
       "│ 11  │ 7     │ bedroom_1   │\n",
       "│ 12  │ 7     │ living_room │"
      ]
     },
     "execution_count": 12,
     "metadata": {},
     "output_type": "execute_result"
    }
   ],
   "source": [
    "X = DataFrame(time=time, room=room)"
   ]
  },
  {
   "cell_type": "code",
   "execution_count": 13,
   "metadata": {},
   "outputs": [
    {
     "name": "stderr",
     "output_type": "stream",
     "text": [
      "┌ Info: Precompiling MLJ [add582a8-e3ab-11e8-2d5e-e98b27df1bc7]\n",
      "└ @ Base loading.jl:1260\n",
      "[ Info: Model metadata loaded from registry. \n"
     ]
    }
   ],
   "source": [
    "using MLJ"
   ]
  },
  {
   "cell_type": "code",
   "execution_count": 31,
   "metadata": {
    "scrolled": true
   },
   "outputs": [
    {
     "name": "stdout",
     "output_type": "stream",
     "text": [
      "\n",
      "\n",
      "┌\u001b[0m───────\u001b[0m┬\u001b[0m─────────────────────────────────\u001b[0m┐\u001b[0m\n",
      "│\u001b[0m\u001b[1m  time \u001b[0m│\u001b[0m\u001b[1m                            room \u001b[0m│\u001b[0m\n",
      "│\u001b[0m\u001b[90m Int64 \u001b[0m│\u001b[0m\u001b[90m CategoricalValue{String,UInt32} \u001b[0m│\u001b[0m\n",
      "├\u001b[0m───────\u001b[0m┼\u001b[0m─────────────────────────────────\u001b[0m┤\u001b[0m\n",
      "│\u001b[0m     5 \u001b[0m│\u001b[0m                         kitchen \u001b[0m│\u001b[0m\n",
      "│\u001b[0m     5 \u001b[0m│\u001b[0m                        bathroom \u001b[0m│\u001b[0m\n",
      "│\u001b[0m     5 \u001b[0m│\u001b[0m                       bedroom_1 \u001b[0m│\u001b[0m\n",
      "│\u001b[0m     5 \u001b[0m│\u001b[0m                     living_room \u001b[0m│\u001b[0m\n",
      "│\u001b[0m     6 \u001b[0m│\u001b[0m                         kitchen \u001b[0m│\u001b[0m\n",
      "│\u001b[0m     6 \u001b[0m│\u001b[0m                        bathroom \u001b[0m│\u001b[0m\n",
      "│\u001b[0m     6 \u001b[0m│\u001b[0m                       bedroom_1 \u001b[0m│\u001b[0m\n",
      "│\u001b[0m     6 \u001b[0m│\u001b[0m                     living_room \u001b[0m│\u001b[0m\n",
      "│\u001b[0m     7 \u001b[0m│\u001b[0m                         kitchen \u001b[0m│\u001b[0m\n",
      "│\u001b[0m     7 \u001b[0m│\u001b[0m                        bathroom \u001b[0m│\u001b[0m\n",
      "│\u001b[0m     7 \u001b[0m│\u001b[0m                       bedroom_1 \u001b[0m│\u001b[0m\n",
      "│\u001b[0m     7 \u001b[0m│\u001b[0m                     living_room \u001b[0m│\u001b[0m\n",
      "└\u001b[0m───────\u001b[0m┴\u001b[0m─────────────────────────────────\u001b[0m┘\u001b[0m\n"
     ]
    }
   ],
   "source": [
    "println()\n",
    "println()\n",
    "MLJ.MLJBase.PrettyTables.pretty_table(X)"
   ]
  },
  {
   "cell_type": "code",
   "execution_count": 15,
   "metadata": {},
   "outputs": [
    {
     "ename": "UndefVarError",
     "evalue": "UndefVarError: y not defined",
     "output_type": "error",
     "traceback": [
      "UndefVarError: y not defined",
      "",
      "Stacktrace:",
      " [1] top-level scope at In[15]:1"
     ]
    }
   ],
   "source": [
    "pretty(y)"
   ]
  },
  {
   "cell_type": "code",
   "execution_count": 16,
   "metadata": {},
   "outputs": [
    {
     "data": {
      "text/plain": [
       "12-element Array{Float64,1}:\n",
       " 18.490955359526012\n",
       " 18.304060288673128\n",
       " 18.25954037947709\n",
       " 17.419481829632957\n",
       " 16.589235329028348\n",
       " 20.66317138311018\n",
       " 18.945861996750985\n",
       " 20.158722013970333\n",
       " 20.361567584624957\n",
       " 19.85771377870428\n",
       " 16.180836445944205\n",
       " 17.330000922162835"
      ]
     },
     "execution_count": 16,
     "metadata": {},
     "output_type": "execute_result"
    }
   ],
   "source": [
    "temp = 16 .+ 5*rand(12)"
   ]
  },
  {
   "cell_type": "code",
   "execution_count": 19,
   "metadata": {},
   "outputs": [
    {
     "data": {
      "text/plain": [
       "12-element Array{Float64,1}:\n",
       " 18.5\n",
       " 18.3\n",
       " 18.3\n",
       " 17.4\n",
       " 16.6\n",
       " 20.7\n",
       " 18.9\n",
       " 20.2\n",
       " 20.4\n",
       " 19.9\n",
       " 16.2\n",
       " 17.3"
      ]
     },
     "execution_count": 19,
     "metadata": {},
     "output_type": "execute_result"
    }
   ],
   "source": [
    "temperature = map(temp) do x round(x, sigdigits=3) end"
   ]
  },
  {
   "cell_type": "code",
   "execution_count": 20,
   "metadata": {},
   "outputs": [
    {
     "ename": "UndefVarError",
     "evalue": "UndefVarError: y not defined",
     "output_type": "error",
     "traceback": [
      "UndefVarError: y not defined",
      "",
      "Stacktrace:",
      " [1] top-level scope at In[20]:1"
     ]
    }
   ],
   "source": [
    "y = DataFrame(y)"
   ]
  },
  {
   "cell_type": "code",
   "execution_count": 23,
   "metadata": {},
   "outputs": [
    {
     "data": {
      "text/html": [
       "<table class=\"data-frame\"><thead><tr><th></th><th>temperature</th></tr><tr><th></th><th>Float64</th></tr></thead><tbody><p>12 rows × 1 columns</p><tr><th>1</th><td>18.5</td></tr><tr><th>2</th><td>18.3</td></tr><tr><th>3</th><td>18.3</td></tr><tr><th>4</th><td>17.4</td></tr><tr><th>5</th><td>16.6</td></tr><tr><th>6</th><td>20.7</td></tr><tr><th>7</th><td>18.9</td></tr><tr><th>8</th><td>20.2</td></tr><tr><th>9</th><td>20.4</td></tr><tr><th>10</th><td>19.9</td></tr><tr><th>11</th><td>16.2</td></tr><tr><th>12</th><td>17.3</td></tr></tbody></table>"
      ],
      "text/latex": [
       "\\begin{tabular}{r|c}\n",
       "\t& temperature\\\\\n",
       "\t\\hline\n",
       "\t& Float64\\\\\n",
       "\t\\hline\n",
       "\t1 & 18.5 \\\\\n",
       "\t2 & 18.3 \\\\\n",
       "\t3 & 18.3 \\\\\n",
       "\t4 & 17.4 \\\\\n",
       "\t5 & 16.6 \\\\\n",
       "\t6 & 20.7 \\\\\n",
       "\t7 & 18.9 \\\\\n",
       "\t8 & 20.2 \\\\\n",
       "\t9 & 20.4 \\\\\n",
       "\t10 & 19.9 \\\\\n",
       "\t11 & 16.2 \\\\\n",
       "\t12 & 17.3 \\\\\n",
       "\\end{tabular}\n"
      ],
      "text/plain": [
       "12×1 DataFrame\n",
       "│ Row │ temperature │\n",
       "│     │ \u001b[90mFloat64\u001b[39m     │\n",
       "├─────┼─────────────┤\n",
       "│ 1   │ 18.5        │\n",
       "│ 2   │ 18.3        │\n",
       "│ 3   │ 18.3        │\n",
       "│ 4   │ 17.4        │\n",
       "│ 5   │ 16.6        │\n",
       "│ 6   │ 20.7        │\n",
       "│ 7   │ 18.9        │\n",
       "│ 8   │ 20.2        │\n",
       "│ 9   │ 20.4        │\n",
       "│ 10  │ 19.9        │\n",
       "│ 11  │ 16.2        │\n",
       "│ 12  │ 17.3        │"
      ]
     },
     "execution_count": 23,
     "metadata": {},
     "output_type": "execute_result"
    }
   ],
   "source": [
    "y=DataFrame(temperature=temperature)"
   ]
  },
  {
   "cell_type": "code",
   "execution_count": 32,
   "metadata": {},
   "outputs": [
    {
     "name": "stdout",
     "output_type": "stream",
     "text": [
      "\n",
      "\n",
      "┌\u001b[0m─────────────\u001b[0m┐\u001b[0m\n",
      "│\u001b[0m\u001b[1m temperature \u001b[0m│\u001b[0m\n",
      "│\u001b[0m\u001b[90m     Float64 \u001b[0m│\u001b[0m\n",
      "├\u001b[0m─────────────\u001b[0m┤\u001b[0m\n",
      "│\u001b[0m        18.5 \u001b[0m│\u001b[0m\n",
      "│\u001b[0m        18.3 \u001b[0m│\u001b[0m\n",
      "│\u001b[0m        18.3 \u001b[0m│\u001b[0m\n",
      "│\u001b[0m        17.4 \u001b[0m│\u001b[0m\n",
      "│\u001b[0m        16.6 \u001b[0m│\u001b[0m\n",
      "│\u001b[0m        20.7 \u001b[0m│\u001b[0m\n",
      "│\u001b[0m        18.9 \u001b[0m│\u001b[0m\n",
      "│\u001b[0m        20.2 \u001b[0m│\u001b[0m\n",
      "│\u001b[0m        20.4 \u001b[0m│\u001b[0m\n",
      "│\u001b[0m        19.9 \u001b[0m│\u001b[0m\n",
      "│\u001b[0m        16.2 \u001b[0m│\u001b[0m\n",
      "│\u001b[0m        17.3 \u001b[0m│\u001b[0m\n",
      "└\u001b[0m─────────────\u001b[0m┘\u001b[0m\n"
     ]
    }
   ],
   "source": [
    "println()\n",
    "println()\n",
    "MLJ.MLJBase.PrettyTables.pretty_table(y)"
   ]
  },
  {
   "cell_type": "code",
   "execution_count": 25,
   "metadata": {},
   "outputs": [
    {
     "data": {
      "text/html": [
       "<table class=\"data-frame\"><thead><tr><th></th><th>temperature</th></tr><tr><th></th><th>Float64</th></tr></thead><tbody><p>12 rows × 1 columns</p><tr><th>1</th><td>18.5</td></tr><tr><th>2</th><td>18.3</td></tr><tr><th>3</th><td>18.3</td></tr><tr><th>4</th><td>17.4</td></tr><tr><th>5</th><td>16.6</td></tr><tr><th>6</th><td>20.7</td></tr><tr><th>7</th><td>18.9</td></tr><tr><th>8</th><td>20.2</td></tr><tr><th>9</th><td>20.4</td></tr><tr><th>10</th><td>19.9</td></tr><tr><th>11</th><td>16.2</td></tr><tr><th>12</th><td>17.3</td></tr></tbody></table>"
      ],
      "text/latex": [
       "\\begin{tabular}{r|c}\n",
       "\t& temperature\\\\\n",
       "\t\\hline\n",
       "\t& Float64\\\\\n",
       "\t\\hline\n",
       "\t1 & 18.5 \\\\\n",
       "\t2 & 18.3 \\\\\n",
       "\t3 & 18.3 \\\\\n",
       "\t4 & 17.4 \\\\\n",
       "\t5 & 16.6 \\\\\n",
       "\t6 & 20.7 \\\\\n",
       "\t7 & 18.9 \\\\\n",
       "\t8 & 20.2 \\\\\n",
       "\t9 & 20.4 \\\\\n",
       "\t10 & 19.9 \\\\\n",
       "\t11 & 16.2 \\\\\n",
       "\t12 & 17.3 \\\\\n",
       "\\end{tabular}\n"
      ],
      "text/plain": [
       "12×1 DataFrame\n",
       "│ Row │ temperature │\n",
       "│     │ \u001b[90mFloat64\u001b[39m     │\n",
       "├─────┼─────────────┤\n",
       "│ 1   │ 18.5        │\n",
       "│ 2   │ 18.3        │\n",
       "│ 3   │ 18.3        │\n",
       "│ 4   │ 17.4        │\n",
       "│ 5   │ 16.6        │\n",
       "│ 6   │ 20.7        │\n",
       "│ 7   │ 18.9        │\n",
       "│ 8   │ 20.2        │\n",
       "│ 9   │ 20.4        │\n",
       "│ 10  │ 19.9        │\n",
       "│ 11  │ 16.2        │\n",
       "│ 12  │ 17.3        │"
      ]
     },
     "execution_count": 25,
     "metadata": {},
     "output_type": "execute_result"
    }
   ],
   "source": [
    "y"
   ]
  },
  {
   "cell_type": "code",
   "execution_count": null,
   "metadata": {},
   "outputs": [],
   "source": []
  }
 ],
 "metadata": {
  "kernelspec": {
   "display_name": "Julia 1.4.2",
   "language": "julia",
   "name": "julia-1.4"
  },
  "language_info": {
   "file_extension": ".jl",
   "mimetype": "application/julia",
   "name": "julia",
   "version": "1.4.2"
  }
 },
 "nbformat": 4,
 "nbformat_minor": 4
}
